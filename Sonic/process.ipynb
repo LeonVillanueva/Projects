{
 "cells": [
  {
   "cell_type": "code",
   "execution_count": 27,
   "metadata": {},
   "outputs": [],
   "source": [
    "directory = 'midi_sonic/*.mid'"
   ]
  },
  {
   "cell_type": "code",
   "execution_count": 77,
   "metadata": {},
   "outputs": [],
   "source": [
    "from music21 import converter\n",
    "import pandas as pd\n",
    "import numpy as np\n",
    "import glob"
   ]
  },
  {
   "cell_type": "code",
   "execution_count": 78,
   "metadata": {},
   "outputs": [],
   "source": [
    "files = glob.glob('midi_sonic/*.mid')\n",
    "length = []\n",
    "midis = {}"
   ]
  },
  {
   "cell_type": "code",
   "execution_count": 79,
   "metadata": {},
   "outputs": [
    {
     "name": "stdout",
     "output_type": "stream",
     "text": [
      "midi_sonic\\02maxwar-cutman.mid:569\n",
      "midi_sonic\\bombman1.mid:360\n",
      "midi_sonic\\cutman.mid:780\n",
      "midi_sonic\\edwardscissorhead.mid:1684\n",
      "midi_sonic\\elecman.mid:11\n",
      "midi_sonic\\elecmanbycryogen.mid:1075\n",
      "midi_sonic\\elec_man.mid:263\n",
      "midi_sonic\\fireman-x.mid:210\n",
      "midi_sonic\\firemanbycryogen.mid:171\n",
      "midi_sonic\\gutsman.mid:262\n",
      "midi_sonic\\iceman.mid:445\n",
      "midi_sonic\\mm1-_bombman.mid:441\n",
      "midi_sonic\\mm1-_elecman.mid:297\n",
      "midi_sonic\\mm1-_fireman.mid:601\n",
      "midi_sonic\\mm1bomb2.mid:2019\n",
      "midi_sonic\\mm1cut.mid:365\n",
      "midi_sonic\\mm1elec.mid:137\n",
      "midi_sonic\\mm1fire.mid:399\n",
      "midi_sonic\\mm_bomb_man(v1.1).mid:325\n",
      "midi_sonic\\mm_elec_man-km.mid:343\n",
      "midi_sonic\\rockman_bombman.mid:397\n"
     ]
    }
   ],
   "source": [
    "# process the files:\n",
    "for file in files:\n",
    "    notes = []\n",
    "    midi = converter.parse(file)\n",
    "    notes_to_parse = None\n",
    "    parts = instrument.partitionByInstrument(midi)\n",
    "    \n",
    "    notes_to_parse = parts.parts[0].recurse()\n",
    "    \n",
    "    for element in notes_to_parse:\n",
    "        if isinstance(element, note.Note):\n",
    "            notes.append(str(element.pitch))\n",
    "        elif isinstance(element, chord.Chord):\n",
    "            notes.append('.'.join(str(n) for n in element.normalOrder))\n",
    "    \n",
    "    midis[file] = notes\n",
    "    length.append (len (notes))\n",
    "    print (file + ':' + str(len(notes)))"
   ]
  },
  {
   "cell_type": "code",
   "execution_count": 80,
   "metadata": {
    "scrolled": false
   },
   "outputs": [],
   "source": [
    "all_notes = np.unique (list (midis.values())[0])\n",
    "average_length = np.mean(length)\n",
    "min_length = np.min(length)\n",
    "max_length = np.max(length)"
   ]
  },
  {
   "cell_type": "code",
   "execution_count": null,
   "metadata": {},
   "outputs": [],
   "source": []
  },
  {
   "cell_type": "code",
   "execution_count": null,
   "metadata": {},
   "outputs": [],
   "source": []
  }
 ],
 "metadata": {
  "kernelspec": {
   "display_name": "Python 3",
   "language": "python",
   "name": "python3"
  },
  "language_info": {
   "codemirror_mode": {
    "name": "ipython",
    "version": 3
   },
   "file_extension": ".py",
   "mimetype": "text/x-python",
   "name": "python",
   "nbconvert_exporter": "python",
   "pygments_lexer": "ipython3",
   "version": "3.7.3"
  }
 },
 "nbformat": 4,
 "nbformat_minor": 2
}
